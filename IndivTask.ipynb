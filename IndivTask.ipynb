{
  "nbformat": 4,
  "nbformat_minor": 0,
  "metadata": {
    "colab": {
      "provenance": [],
      "authorship_tag": "ABX9TyPjG9Bpbi0ylKP+WO/FP4dk",
      "include_colab_link": true
    },
    "kernelspec": {
      "name": "python3",
      "display_name": "Python 3"
    },
    "language_info": {
      "name": "python"
    }
  },
  "cells": [
    {
      "cell_type": "markdown",
      "metadata": {
        "id": "view-in-github",
        "colab_type": "text"
      },
      "source": [
        "<a href=\"https://colab.research.google.com/github/kattatooe/individual-Task-/blob/main/IndivTask.ipynb\" target=\"_parent\"><img src=\"https://colab.research.google.com/assets/colab-badge.svg\" alt=\"Open In Colab\"/></a>"
      ]
    },
    {
      "cell_type": "code",
      "execution_count": 6,
      "metadata": {
        "colab": {
          "base_uri": "https://localhost:8080/"
        },
        "id": "IVEgudG0BZkZ",
        "outputId": "657f2d10-0b61-47ad-f6a2-f0700ded67f5"
      },
      "outputs": [
        {
          "output_type": "stream",
          "name": "stdout",
          "text": [
            "All Clients:\n",
            "Client: Amanda Karaja\n",
            "  Transaction 1:\n",
            "    Laptop - EUR 2000.00\n",
            "    Smartphone - EUR 599.00\n",
            "\n",
            "Client: Janis Krisjans\n",
            "  Transaction 1:\n",
            "    Headphones - EUR 119.00\n",
            "  Transaction 2:\n",
            "    Smartphone - EUR 599.00\n",
            "    Headphones - EUR 119.00\n",
            "\n"
          ]
        }
      ],
      "source": [
        "class Client:\n",
        "    def __init__(self, name):\n",
        "        self.name = name\n",
        "        self.transactions = []\n",
        "\n",
        "    def add_transaction(self, transaction):\n",
        "        self.transactions.append(transaction)\n",
        "\n",
        "class Item:\n",
        "    def __init__(self, name, price):\n",
        "        self.name = name\n",
        "        self.price = price\n",
        "\n",
        "class Transaction:\n",
        "    def __init__(self, items):\n",
        "        self.items = items\n",
        "\n",
        "def print_shop_data(clients):\n",
        "    print(\"All Clients:\")\n",
        "    for client in clients:\n",
        "        print(f\"Client: {client.name}\")\n",
        "        for t_index, transaction in enumerate(client.transactions, 1):\n",
        "            print(f\"  Transaction {t_index}:\")\n",
        "            for item in transaction.items:\n",
        "                print(f\"    {item.name} - EUR {item.price:.2f}\")\n",
        "        print()\n",
        "\n",
        "items = [Item(\"Laptop\", 2000.00), Item(\"Smartphone\", 599.00), Item(\"Headphones\", 119.00)]\n",
        "\n",
        "\n",
        "client1 = Client(\"Amanda Karaja\")\n",
        "client2 = Client(\"Janis Krisjans\")\n",
        "\n",
        "client1.add_transaction(Transaction([items[0], items[1]]))\n",
        "client2.add_transaction(Transaction([items[2]]))\n",
        "client2.add_transaction(Transaction([items[1], items[2]]))\n",
        "\n",
        "print_shop_data([client1, client2])\n"
      ]
    }
  ]
}